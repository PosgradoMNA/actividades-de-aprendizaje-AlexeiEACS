{
 "cells": [
  {
   "cell_type": "markdown",
   "metadata": {},
   "source": [
    "# Python for Data Science\n",
    "Course link: https://courses.cognitiveclass.ai/courses/course-v1:CognitiveClass+PY0101EN+v3/course/\n",
    "\n",
    "Student: Erick Alexei Cambray Servin\n",
    "\n",
    "Student ID: A01794243"
   ]
  },
  {
   "cell_type": "markdown",
   "metadata": {},
   "source": [
    "# Module 1"
   ]
  },
  {
   "cell_type": "markdown",
   "metadata": {},
   "source": [
    "## Your first Program"
   ]
  },
  {
   "cell_type": "markdown",
   "metadata": {},
   "source": [
    "A statement or expression is an instruction the cumputer will run.\n",
    "The print stamemt takes one argument that is the output that will be printed by the program."
   ]
  },
  {
   "cell_type": "code",
   "execution_count": 1,
   "metadata": {},
   "outputs": [
    {
     "name": "stdout",
     "output_type": "stream",
     "text": [
      "Hello Python\n"
     ]
    }
   ],
   "source": [
    "print('Hello Python')"
   ]
  },
  {
   "cell_type": "markdown",
   "metadata": {},
   "source": [
    "To be more clear and to help us in the future or other programers we can comment our code o specify what does our code does."
   ]
  },
  {
   "cell_type": "code",
   "execution_count": null,
   "metadata": {},
   "outputs": [],
   "source": [
    "# This line prints an output\n",
    "print('An output')"
   ]
  },
  {
   "cell_type": "markdown",
   "metadata": {},
   "source": [
    "If we make mistakes in our code, python will let us know and we will recive a message error.\n",
    "\n",
    "A Syntatix error is when we got typos or misspell a word"
   ]
  },
  {
   "cell_type": "code",
   "execution_count": 4,
   "metadata": {},
   "outputs": [
    {
     "ename": "NameError",
     "evalue": "name 'Frint' is not defined",
     "output_type": "error",
     "traceback": [
      "\u001b[1;31m---------------------------------------------------------------------------\u001b[0m",
      "\u001b[1;31mNameError\u001b[0m                                 Traceback (most recent call last)",
      "Cell \u001b[1;32mIn [4], line 1\u001b[0m\n\u001b[1;32m----> 1\u001b[0m \u001b[43mFrint\u001b[49m(\u001b[38;5;124m'\u001b[39m\u001b[38;5;124mThis is an error\u001b[39m\u001b[38;5;124m'\u001b[39m)\n",
      "\u001b[1;31mNameError\u001b[0m: name 'Frint' is not defined"
     ]
    }
   ],
   "source": [
    "Frint('This is an error')"
   ]
  },
  {
   "cell_type": "markdown",
   "metadata": {},
   "source": [
    "Another type of error is the Semantic error that occurss when your logic is wrong. For examen this course is Python 101 and if  we print Python 102 we don't get and error messange but the code is wrong."
   ]
  },
  {
   "cell_type": "markdown",
   "metadata": {},
   "source": [
    "## Types"
   ]
  },
  {
   "cell_type": "markdown",
   "metadata": {},
   "source": [
    "It is how python represents different types of data.\n",
    "\n",
    "We can have \n",
    "\n",
    "Integers -> 11 -> int\n",
    "\n",
    "Real numbers -> 20.454 -> float\n",
    "\n",
    "Words -> 'Hi' -> str"
   ]
  },
  {
   "cell_type": "markdown",
   "metadata": {},
   "source": [
    "Also we can chance (cast) the data type in Python:"
   ]
  },
  {
   "cell_type": "code",
   "execution_count": 6,
   "metadata": {},
   "outputs": [
    {
     "data": {
      "text/plain": [
       "2.0"
      ]
     },
     "execution_count": 6,
     "metadata": {},
     "output_type": "execute_result"
    }
   ],
   "source": [
    "float(2)\n",
    "# Notice that the otput adds a decimal"
   ]
  },
  {
   "cell_type": "markdown",
   "metadata": {},
   "source": [
    "If what you want is to cast a float to an integer we should be careful because it will only take the integer part"
   ]
  },
  {
   "cell_type": "code",
   "execution_count": 9,
   "metadata": {},
   "outputs": [
    {
     "name": "stdout",
     "output_type": "stream",
     "text": [
      "2\n",
      "2\n",
      "2\n"
     ]
    }
   ],
   "source": [
    "print(int(2.55))\n",
    "print(int(2.9))\n",
    "print(int(2.1))"
   ]
  },
  {
   "cell_type": "markdown",
   "metadata": {},
   "source": [
    "Python is smart enough to cast even strings into Interger"
   ]
  },
  {
   "cell_type": "code",
   "execution_count": 12,
   "metadata": {},
   "outputs": [
    {
     "name": "stdout",
     "output_type": "stream",
     "text": [
      "10\n"
     ]
    },
    {
     "ename": "ValueError",
     "evalue": "invalid literal for int() with base 10: 'A'",
     "output_type": "error",
     "traceback": [
      "\u001b[1;31m---------------------------------------------------------------------------\u001b[0m",
      "\u001b[1;31mValueError\u001b[0m                                Traceback (most recent call last)",
      "Cell \u001b[1;32mIn [12], line 3\u001b[0m\n\u001b[0;32m      1\u001b[0m \u001b[38;5;28mprint\u001b[39m(\u001b[38;5;28mint\u001b[39m(\u001b[38;5;124m'\u001b[39m\u001b[38;5;124m10\u001b[39m\u001b[38;5;130;01m\\n\u001b[39;00m\u001b[38;5;124m'\u001b[39m))\n\u001b[0;32m      2\u001b[0m \u001b[38;5;66;03m# But if we try to cast letters it will return an error\u001b[39;00m\n\u001b[1;32m----> 3\u001b[0m \u001b[38;5;28mprint\u001b[39m(\u001b[38;5;28;43mint\u001b[39;49m\u001b[43m(\u001b[49m\u001b[38;5;124;43m'\u001b[39;49m\u001b[38;5;124;43mA\u001b[39;49m\u001b[38;5;124;43m'\u001b[39;49m\u001b[43m)\u001b[49m)\n",
      "\u001b[1;31mValueError\u001b[0m: invalid literal for int() with base 10: 'A'"
     ]
    }
   ],
   "source": [
    "print(int('10\\n'))\n",
    "# But if we try to cast letters it will return an error\n",
    "print(int('A'))"
   ]
  },
  {
   "cell_type": "markdown",
   "metadata": {},
   "source": [
    "Boolean types is also very important in python\n",
    "Can take two values True (1) or False (0)\n",
    "The important thing in python is that we can operate them as if they were numbers"
   ]
  },
  {
   "cell_type": "code",
   "execution_count": 13,
   "metadata": {},
   "outputs": [
    {
     "data": {
      "text/plain": [
       "2"
      ]
     },
     "execution_count": 13,
     "metadata": {},
     "output_type": "execute_result"
    }
   ],
   "source": [
    "sum([True, False, True])"
   ]
  },
  {
   "cell_type": "code",
   "execution_count": 14,
   "metadata": {},
   "outputs": [
    {
     "data": {
      "text/plain": [
       "True"
      ]
     },
     "execution_count": 14,
     "metadata": {},
     "output_type": "execute_result"
    }
   ],
   "source": [
    "bool(1)"
   ]
  },
  {
   "cell_type": "markdown",
   "metadata": {},
   "source": [
    "## Expressions : Mathematical Operations\n",
    "For mathematical operations python follows a Jerachical order"
   ]
  },
  {
   "cell_type": "code",
   "execution_count": 16,
   "metadata": {},
   "outputs": [
    {
     "name": "stdout",
     "output_type": "stream",
     "text": [
      "213\n",
      "2\n",
      "45.5\n",
      "1.5\n"
     ]
    }
   ],
   "source": [
    "# Basic Arithmetic operations\n",
    "print(10+203)\n",
    "print(5-3)\n",
    "print(0.5 * 91)\n",
    "print(12/8)"
   ]
  },
  {
   "cell_type": "code",
   "execution_count": 18,
   "metadata": {},
   "outputs": [
    {
     "name": "stdout",
     "output_type": "stream",
     "text": [
      "1\n",
      "4\n"
     ]
    }
   ],
   "source": [
    "# For integer division\n",
    "print(12//8)\n",
    "# And also módule to have the residual\n",
    "print(12%8)"
   ]
  },
  {
   "cell_type": "markdown",
   "metadata": {},
   "source": [
    "We can use this operators using varibales."
   ]
  },
  {
   "cell_type": "code",
   "execution_count": 19,
   "metadata": {},
   "outputs": [
    {
     "name": "stdout",
     "output_type": "stream",
     "text": [
      "22\n",
      "1000000000000\n",
      "-2\n"
     ]
    }
   ],
   "source": [
    "variable_1 = 10\n",
    "variable_2 = 12\n",
    "print(variable_1 + variable_2)\n",
    "print(variable_1 ** variable_2)\n",
    "print(variable_1 - variable_2)\n"
   ]
  },
  {
   "cell_type": "markdown",
   "metadata": {},
   "source": [
    "## String Operations\n",
    "Is helpful to think of a string as an ordered sequence, and each element can be accessed and the string sliced"
   ]
  },
  {
   "cell_type": "code",
   "execution_count": 20,
   "metadata": {},
   "outputs": [],
   "source": [
    "str_var = 'Michael Jackson'"
   ]
  },
  {
   "cell_type": "code",
   "execution_count": 25,
   "metadata": {},
   "outputs": [
    {
     "name": "stdout",
     "output_type": "stream",
     "text": [
      "M\n",
      "a\n",
      "n\n",
      "Mic\n",
      "kso\n"
     ]
    }
   ],
   "source": [
    "print(str_var[0])\n",
    "print(str_var[9])\n",
    "print(str_var[-1])\n",
    "print(str_var[0:3])\n",
    "print(str_var[-4:-1])"
   ]
  },
  {
   "cell_type": "code",
   "execution_count": 27,
   "metadata": {},
   "outputs": [
    {
     "name": "stdout",
     "output_type": "stream",
     "text": [
      "McalJcsn\n"
     ]
    }
   ],
   "source": [
    "print(str_var[::2])"
   ]
  },
  {
   "cell_type": "markdown",
   "metadata": {},
   "source": [
    "We can also operate the strings as if they where numbers "
   ]
  },
  {
   "cell_type": "code",
   "execution_count": 30,
   "metadata": {},
   "outputs": [
    {
     "name": "stdout",
     "output_type": "stream",
     "text": [
      "Michael Jackson Michael Jackson Michael Jackson \n"
     ]
    }
   ],
   "source": [
    "print(3 * (str_var + ' '))"
   ]
  },
  {
   "cell_type": "markdown",
   "metadata": {},
   "source": [
    "Because the Strings are sequences we can apply methods that also work in lists and tuples. But also they have special methods that work just for them."
   ]
  },
  {
   "cell_type": "code",
   "execution_count": 31,
   "metadata": {},
   "outputs": [],
   "source": [
    "A = 'This is an string example'"
   ]
  },
  {
   "cell_type": "code",
   "execution_count": 34,
   "metadata": {},
   "outputs": [
    {
     "name": "stdout",
     "output_type": "stream",
     "text": [
      "THIS IS AN STRING EXAMPLE\n"
     ]
    }
   ],
   "source": [
    "print(A.upper())"
   ]
  },
  {
   "cell_type": "code",
   "execution_count": 39,
   "metadata": {},
   "outputs": [
    {
     "data": {
      "text/plain": [
       "2"
      ]
     },
     "execution_count": 39,
     "metadata": {},
     "output_type": "execute_result"
    }
   ],
   "source": [
    "\"0013456\".find('1')"
   ]
  },
  {
   "cell_type": "markdown",
   "metadata": {},
   "source": [
    "# Module 2"
   ]
  },
  {
   "cell_type": "markdown",
   "metadata": {},
   "source": [
    "## List and Tuples\n",
    "Are compound data types and are a key type of data strucures in Python."
   ]
  },
  {
   "cell_type": "markdown",
   "metadata": {},
   "source": [
    "### Tuples\n",
    "Tuples are an ordered sequence, they are immutable that means they cannot be modify."
   ]
  },
  {
   "cell_type": "code",
   "execution_count": 43,
   "metadata": {},
   "outputs": [
    {
     "name": "stdout",
     "output_type": "stream",
     "text": [
      "(10, 9, 8, 7, 6)\n",
      "('string', 10, 19.9)\n"
     ]
    }
   ],
   "source": [
    "first_tuple = (10, 9 , 8, 7, 6)\n",
    "print(first_tuple)\n",
    "second_tuple = ('string', 10, 19.9)\n",
    "print(second_tuple)"
   ]
  },
  {
   "cell_type": "code",
   "execution_count": 47,
   "metadata": {},
   "outputs": [
    {
     "name": "stdout",
     "output_type": "stream",
     "text": [
      "string\n",
      "19.9\n",
      "('string', 10)\n"
     ]
    }
   ],
   "source": [
    "print(second_tuple[0])\n",
    "print(second_tuple[-1])\n",
    "print(second_tuple[0:2])"
   ]
  },
  {
   "cell_type": "markdown",
   "metadata": {},
   "source": [
    "We can nest a tuple into a tuple.\n",
    "But the result will still be a tuple"
   ]
  },
  {
   "cell_type": "code",
   "execution_count": 48,
   "metadata": {},
   "outputs": [
    {
     "name": "stdout",
     "output_type": "stream",
     "text": [
      "('s', 12, (30, 12))\n",
      "<class 'tuple'>\n"
     ]
    }
   ],
   "source": [
    "tp1 = ('s', 12, (30, 12))\n",
    "print(tp1)\n",
    "print(type(tp1))"
   ]
  },
  {
   "cell_type": "markdown",
   "metadata": {},
   "source": [
    "To access deeper levels on the tuple we add another square bracket"
   ]
  },
  {
   "cell_type": "code",
   "execution_count": 51,
   "metadata": {},
   "outputs": [
    {
     "name": "stdout",
     "output_type": "stream",
     "text": [
      "12\n",
      "(30, 12)\n",
      "30\n"
     ]
    }
   ],
   "source": [
    "print(tp1[1])\n",
    "print(tp1[2])\n",
    "print(tp1[2][0])"
   ]
  },
  {
   "cell_type": "markdown",
   "metadata": {},
   "source": [
    "### List\n",
    "Are almost the same as a tuple but they can be modify. Means they are mutable"
   ]
  },
  {
   "cell_type": "code",
   "execution_count": 53,
   "metadata": {},
   "outputs": [],
   "source": [
    "first_list = [10, 11, 12, 'string', 10.45, ['another', 11, 23]]"
   ]
  },
  {
   "cell_type": "code",
   "execution_count": 57,
   "metadata": {},
   "outputs": [
    {
     "name": "stdout",
     "output_type": "stream",
     "text": [
      "[10, 11, 12, 'string', 10.45, ['another', 11, 23]]\n",
      "[10, 11, 12, 'string']\n",
      "['another', 11, 23]\n",
      "['another', 11]\n"
     ]
    }
   ],
   "source": [
    "print(first_list)\n",
    "print(first_list[0:4])\n",
    "print(first_list[5])\n",
    "print(first_list[5][0:2])"
   ]
  },
  {
   "cell_type": "markdown",
   "metadata": {},
   "source": [
    "To modify a value we can use it's index"
   ]
  },
  {
   "cell_type": "code",
   "execution_count": 58,
   "metadata": {},
   "outputs": [
    {
     "name": "stdout",
     "output_type": "stream",
     "text": [
      "[10, 11, 12, 'string', 10.45, ['another', 11, 23]]\n",
      "[10, 11, 12, 'string', 10.45, 'new_value']\n"
     ]
    }
   ],
   "source": [
    "print(first_list)\n",
    "first_list[5] = 'new_value'\n",
    "print(first_list)"
   ]
  },
  {
   "cell_type": "markdown",
   "metadata": {},
   "source": [
    "Also we can use the list methods to modify it"
   ]
  },
  {
   "cell_type": "code",
   "execution_count": 59,
   "metadata": {},
   "outputs": [
    {
     "name": "stdout",
     "output_type": "stream",
     "text": [
      "[10, 11, 12, 'string', 10.45, 'new_value']\n",
      "[10, 11, 12, 'string', 10.45, 'new_value', 'ext', 10]\n"
     ]
    }
   ],
   "source": [
    "print(first_list)\n",
    "first_list.extend(['ext', 10])\n",
    "print(first_list)"
   ]
  },
  {
   "cell_type": "code",
   "execution_count": 60,
   "metadata": {},
   "outputs": [
    {
     "name": "stdout",
     "output_type": "stream",
     "text": [
      "[10, 11, 12, 'string', 10.45, 'new_value', 'ext', 10]\n",
      "[10, 11, 12, 'string', 10.45, 'new_value', 'ext', 10, 55.4221]\n"
     ]
    }
   ],
   "source": [
    "print(first_list)\n",
    "first_list.append(55.4221)\n",
    "print(first_list)"
   ]
  },
  {
   "cell_type": "markdown",
   "metadata": {},
   "source": [
    "We can also use some methods to conver strings into lists"
   ]
  },
  {
   "cell_type": "code",
   "execution_count": 62,
   "metadata": {},
   "outputs": [
    {
     "data": {
      "text/plain": [
       "['ab', 'c', 's', '123']"
      ]
     },
     "execution_count": 62,
     "metadata": {},
     "output_type": "execute_result"
    }
   ],
   "source": [
    "'ab,c,s,123'.split(',')"
   ]
  },
  {
   "cell_type": "markdown",
   "metadata": {},
   "source": [
    "### Sets\n",
    "They are also a type of collection like list and tuples, but with the difference that they don't have an order.\n",
    "\n",
    "Also sets only have unique elements."
   ]
  },
  {
   "cell_type": "code",
   "execution_count": 67,
   "metadata": {},
   "outputs": [
    {
     "name": "stdout",
     "output_type": "stream",
     "text": [
      "{'three', 'two', 3, 'one'}\n"
     ]
    }
   ],
   "source": [
    "first_set = {'one', 'two', 3 , 'three', 'one'}\n",
    "print(first_set)\n",
    "# Notice that here it removes the duplicated value"
   ]
  },
  {
   "cell_type": "code",
   "execution_count": 70,
   "metadata": {},
   "outputs": [
    {
     "data": {
      "text/plain": [
       "{1, 2, 3, 'one'}"
      ]
     },
     "execution_count": 70,
     "metadata": {},
     "output_type": "execute_result"
    }
   ],
   "source": [
    "# We can transform a 1-D list into a set and it will remove the duplicates\n",
    "set([1, 2, 3, 1, 2, 'one'])"
   ]
  },
  {
   "cell_type": "code",
   "execution_count": 71,
   "metadata": {},
   "outputs": [
    {
     "name": "stdout",
     "output_type": "stream",
     "text": [
      "{1, 2, 3}\n",
      "{1, 2, 3, 4}\n"
     ]
    }
   ],
   "source": [
    "A = {1, 2, 3}\n",
    "print(A)\n",
    "A.add(4)\n",
    "print(A)"
   ]
  },
  {
   "cell_type": "markdown",
   "metadata": {},
   "source": [
    "We can also use set operations like in mathematical Set theory, we can do operations like Union, Intersection, Difference, etc."
   ]
  },
  {
   "cell_type": "code",
   "execution_count": 74,
   "metadata": {},
   "outputs": [
    {
     "name": "stdout",
     "output_type": "stream",
     "text": [
      "{3}\n",
      "{1, 2, 3, 4, 5}\n",
      "{1, 2}\n"
     ]
    }
   ],
   "source": [
    "A = {1, 2, 3}\n",
    "B = {3, 4, 5}\n",
    "print(A.intersection(B))\n",
    "print(A.union(B))\n",
    "print(A.difference(B))"
   ]
  },
  {
   "cell_type": "markdown",
   "metadata": {},
   "source": [
    "A very important method is $in$ that checks if there is a coincidence of a element in the set"
   ]
  },
  {
   "cell_type": "code",
   "execution_count": 76,
   "metadata": {},
   "outputs": [
    {
     "name": "stdout",
     "output_type": "stream",
     "text": [
      "True\n",
      "False\n"
     ]
    }
   ],
   "source": [
    "print(1 in A)\n",
    "print(4 in A)"
   ]
  },
  {
   "cell_type": "markdown",
   "metadata": {},
   "source": [
    "### Dictionaries\n",
    "Is a collection of elements but instead to be identify by an index like lists and tuples, they are identify by keys which have to be immutable and unique. But the values can be of any type."
   ]
  },
  {
   "cell_type": "code",
   "execution_count": 78,
   "metadata": {},
   "outputs": [
    {
     "name": "stdout",
     "output_type": "stream",
     "text": [
      "{'key1': 'value 1', 'key2': [1, 2, 3], 'key3': (1, 2, 3)}\n"
     ]
    }
   ],
   "source": [
    "first_dict = {'key1': 'value 1', 'key2': [1, 2, 3], 'key3': (1,2,3)}\n",
    "print(first_dict)"
   ]
  },
  {
   "cell_type": "code",
   "execution_count": 81,
   "metadata": {},
   "outputs": [
    {
     "name": "stdout",
     "output_type": "stream",
     "text": [
      "value 1\n",
      "(1, 2, 3)\n"
     ]
    }
   ],
   "source": [
    "print(first_dict['key1'])\n",
    "print(first_dict['key3'])"
   ]
  },
  {
   "cell_type": "code",
   "execution_count": 82,
   "metadata": {},
   "outputs": [
    {
     "name": "stdout",
     "output_type": "stream",
     "text": [
      "{'key1': 'value 1', 'key2': [1, 2, 3], 'key3': (1, 2, 3)}\n",
      "{'key1': 'value 1', 'key2': [1, 2, 3], 'key3': (1, 2, 3), 'new_key': 2008}\n"
     ]
    }
   ],
   "source": [
    "print(first_dict)\n",
    "first_dict['new_key'] = 2008\n",
    "print(first_dict)"
   ]
  },
  {
   "cell_type": "code",
   "execution_count": 83,
   "metadata": {},
   "outputs": [
    {
     "name": "stdout",
     "output_type": "stream",
     "text": [
      "{'key1': 'value 1', 'key2': [1, 2, 3], 'key3': (1, 2, 3), 'new_key': 2008}\n",
      "{'key1': 'value 1', 'key2': [1, 2, 3], 'key3': (1, 2, 3)}\n"
     ]
    }
   ],
   "source": [
    "print(first_dict)\n",
    "del(first_dict['new_key'])\n",
    "print(first_dict)"
   ]
  },
  {
   "cell_type": "code",
   "execution_count": 85,
   "metadata": {},
   "outputs": [
    {
     "data": {
      "text/plain": [
       "[1, 2, [1, 2]]"
      ]
     },
     "execution_count": 85,
     "metadata": {},
     "output_type": "execute_result"
    }
   ],
   "source": [
    "L = [1,2]\n",
    "L.append([1,2])\n",
    "L"
   ]
  },
  {
   "cell_type": "markdown",
   "metadata": {},
   "source": [
    "# Module 3"
   ]
  }
 ],
 "metadata": {
  "kernelspec": {
   "display_name": "Python 3.10.7 ('mna_env')",
   "language": "python",
   "name": "python3"
  },
  "language_info": {
   "codemirror_mode": {
    "name": "ipython",
    "version": 3
   },
   "file_extension": ".py",
   "mimetype": "text/x-python",
   "name": "python",
   "nbconvert_exporter": "python",
   "pygments_lexer": "ipython3",
   "version": "3.10.7"
  },
  "orig_nbformat": 4,
  "vscode": {
   "interpreter": {
    "hash": "1f0fd73d090cde0cd3394bfad2add41b5c8da40660366e2b11ef06e031550b5b"
   }
  }
 },
 "nbformat": 4,
 "nbformat_minor": 2
}
